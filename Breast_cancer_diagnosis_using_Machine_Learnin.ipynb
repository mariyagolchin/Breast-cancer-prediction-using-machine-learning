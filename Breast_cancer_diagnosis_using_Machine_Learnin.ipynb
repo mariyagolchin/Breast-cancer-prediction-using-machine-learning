{
  "nbformat": 4,
  "nbformat_minor": 0,
  "metadata": {
    "colab": {
      "name": "Breast-cancer-diagnosis-using-Machine-Learnin.ipynb",
      "provenance": [],
      "authorship_tag": "ABX9TyPh5E/g7kbSRCnLMrPDxbCF",
      "include_colab_link": true
    },
    "kernelspec": {
      "name": "python3",
      "display_name": "Python 3"
    },
    "language_info": {
      "name": "python"
    }
  },
  "cells": [
    {
      "cell_type": "markdown",
      "metadata": {
        "id": "view-in-github",
        "colab_type": "text"
      },
      "source": [
        "<a href=\"https://colab.research.google.com/github/mariyagolchin/Breast-cancer-prediction-using-machine-learning/blob/main/Breast_cancer_diagnosis_using_Machine_Learnin.ipynb\" target=\"_parent\"><img src=\"https://colab.research.google.com/assets/colab-badge.svg\" alt=\"Open In Colab\"/></a>"
      ]
    },
    {
      "cell_type": "markdown",
      "metadata": {
        "id": "VBX37uKxu2Ij"
      },
      "source": [
        "https://github.com/Piyush-Bhardwaj/Breast-cancer-diagnosis-using-Machine-Learning\n"
      ]
    },
    {
      "cell_type": "code",
      "metadata": {
        "colab": {
          "base_uri": "https://localhost:8080/"
        },
        "id": "Iiyhg_EzrT1n",
        "outputId": "2a5f1c91-7240-42b1-e83c-085cf0a9234a"
      },
      "source": [
        "from google.colab import drive\n",
        "drive.mount('/content/drive')"
      ],
      "execution_count": 2,
      "outputs": [
        {
          "output_type": "stream",
          "name": "stdout",
          "text": [
            "Mounted at /content/drive\n"
          ]
        }
      ]
    },
    {
      "cell_type": "code",
      "metadata": {
        "id": "cnnAWuGKq40L"
      },
      "source": [
        "# Importing the libraries\n",
        "\n",
        "import numpy as np\n",
        "import matplotlib.pyplot as plt\n",
        "import pandas as pd\n",
        "from sklearn.metrics import accuracy_score"
      ],
      "execution_count": 3,
      "outputs": []
    },
    {
      "cell_type": "code",
      "metadata": {
        "colab": {
          "base_uri": "https://localhost:8080/",
          "height": 224
        },
        "id": "DDEf3q02sIui",
        "outputId": "bc7f2b71-2f2e-42e4-92f9-58bb3651b3a9"
      },
      "source": [
        "\n",
        "# Importing the dataset\n",
        "\n",
        "df = pd.read_csv('/content/drive/MyDrive/KaggleData/ Breast-cancer-data/cancer.csv')\n",
        "df.head()\n"
      ],
      "execution_count": 4,
      "outputs": [
        {
          "output_type": "execute_result",
          "data": {
            "text/html": [
              "<div>\n",
              "<style scoped>\n",
              "    .dataframe tbody tr th:only-of-type {\n",
              "        vertical-align: middle;\n",
              "    }\n",
              "\n",
              "    .dataframe tbody tr th {\n",
              "        vertical-align: top;\n",
              "    }\n",
              "\n",
              "    .dataframe thead th {\n",
              "        text-align: right;\n",
              "    }\n",
              "</style>\n",
              "<table border=\"1\" class=\"dataframe\">\n",
              "  <thead>\n",
              "    <tr style=\"text-align: right;\">\n",
              "      <th></th>\n",
              "      <th>id</th>\n",
              "      <th>clump_thickness</th>\n",
              "      <th>unif_cell_size</th>\n",
              "      <th>unif_cell_shape</th>\n",
              "      <th>marg_adhesion</th>\n",
              "      <th>single_epith_cell_size</th>\n",
              "      <th>bare_nuclei</th>\n",
              "      <th>bland_chrom</th>\n",
              "      <th>norm_nucleoli</th>\n",
              "      <th>mitoses</th>\n",
              "      <th>classes</th>\n",
              "    </tr>\n",
              "  </thead>\n",
              "  <tbody>\n",
              "    <tr>\n",
              "      <th>0</th>\n",
              "      <td>1000025</td>\n",
              "      <td>5</td>\n",
              "      <td>1</td>\n",
              "      <td>1</td>\n",
              "      <td>1</td>\n",
              "      <td>2</td>\n",
              "      <td>1</td>\n",
              "      <td>3</td>\n",
              "      <td>1</td>\n",
              "      <td>1</td>\n",
              "      <td>0</td>\n",
              "    </tr>\n",
              "    <tr>\n",
              "      <th>1</th>\n",
              "      <td>1002945</td>\n",
              "      <td>5</td>\n",
              "      <td>4</td>\n",
              "      <td>4</td>\n",
              "      <td>5</td>\n",
              "      <td>7</td>\n",
              "      <td>10</td>\n",
              "      <td>3</td>\n",
              "      <td>2</td>\n",
              "      <td>1</td>\n",
              "      <td>0</td>\n",
              "    </tr>\n",
              "    <tr>\n",
              "      <th>2</th>\n",
              "      <td>1015425</td>\n",
              "      <td>3</td>\n",
              "      <td>1</td>\n",
              "      <td>1</td>\n",
              "      <td>1</td>\n",
              "      <td>2</td>\n",
              "      <td>2</td>\n",
              "      <td>3</td>\n",
              "      <td>1</td>\n",
              "      <td>1</td>\n",
              "      <td>0</td>\n",
              "    </tr>\n",
              "    <tr>\n",
              "      <th>3</th>\n",
              "      <td>1016277</td>\n",
              "      <td>6</td>\n",
              "      <td>8</td>\n",
              "      <td>8</td>\n",
              "      <td>1</td>\n",
              "      <td>3</td>\n",
              "      <td>4</td>\n",
              "      <td>3</td>\n",
              "      <td>7</td>\n",
              "      <td>1</td>\n",
              "      <td>0</td>\n",
              "    </tr>\n",
              "    <tr>\n",
              "      <th>4</th>\n",
              "      <td>1017023</td>\n",
              "      <td>4</td>\n",
              "      <td>1</td>\n",
              "      <td>1</td>\n",
              "      <td>3</td>\n",
              "      <td>2</td>\n",
              "      <td>1</td>\n",
              "      <td>3</td>\n",
              "      <td>1</td>\n",
              "      <td>1</td>\n",
              "      <td>0</td>\n",
              "    </tr>\n",
              "  </tbody>\n",
              "</table>\n",
              "</div>"
            ],
            "text/plain": [
              "        id  clump_thickness  unif_cell_size  ...  norm_nucleoli  mitoses  classes\n",
              "0  1000025                5               1  ...              1        1        0\n",
              "1  1002945                5               4  ...              2        1        0\n",
              "2  1015425                3               1  ...              1        1        0\n",
              "3  1016277                6               8  ...              7        1        0\n",
              "4  1017023                4               1  ...              1        1        0\n",
              "\n",
              "[5 rows x 11 columns]"
            ]
          },
          "metadata": {},
          "execution_count": 4
        }
      ]
    },
    {
      "cell_type": "code",
      "metadata": {
        "id": "zosGxuuXsSi4"
      },
      "source": [
        "df.replace('?',-99999,inplace=True)\n",
        "df.drop(['id'],1,inplace=True)\n",
        "\n",
        "X=np.array(df.drop(['classes'],1))\n",
        "y=np.array(df['classes'])"
      ],
      "execution_count": 5,
      "outputs": []
    },
    {
      "cell_type": "code",
      "metadata": {
        "id": "oWeQrWybsfNn"
      },
      "source": [
        "# Splitting the dataset into the Training set and Test set\n",
        "\n",
        "from sklearn.model_selection import train_test_split\n",
        "X_train, X_test, y_train, y_test = train_test_split(X, y, test_size = 0.35, random_state = 42)"
      ],
      "execution_count": 6,
      "outputs": []
    },
    {
      "cell_type": "code",
      "metadata": {
        "id": "n5kc31KQsk0A"
      },
      "source": [
        "# Feature Scaling\n",
        "\n",
        "from sklearn.preprocessing import StandardScaler\n",
        "sc = StandardScaler()\n",
        "X_train = sc.fit_transform(X_train)\n",
        "X_test = sc.transform(X_test)\n"
      ],
      "execution_count": 7,
      "outputs": []
    },
    {
      "cell_type": "code",
      "metadata": {
        "id": "DQmimH7psvt9"
      },
      "source": [
        "\n",
        "from sklearn.decomposition import PCA\n",
        "pca = PCA(n_components=2)\n",
        "X_train = pca.fit_transform(X_train)\n",
        "X_test = pca.fit_transform(X_test)\n",
        "explained_variance=pca.explained_variance_ratio_"
      ],
      "execution_count": 8,
      "outputs": []
    },
    {
      "cell_type": "code",
      "metadata": {
        "colab": {
          "base_uri": "https://localhost:8080/",
          "height": 1000
        },
        "id": "EGMiCu2Os0i3",
        "outputId": "5648f416-be65-432e-81b3-328ffe60a610"
      },
      "source": [
        "\n",
        "# Fitting KNN to the Training set\n",
        "\n",
        "from sklearn.neighbors import KNeighborsClassifier\n",
        "knn = []\n",
        "for i in range(1,21):\n",
        "            \n",
        "    classifier = KNeighborsClassifier(n_neighbors=i)\n",
        "    trained_model=classifier.fit(X_train,y_train)\n",
        "    trained_model.fit(X_train,y_train )\n",
        "    \n",
        "    # Predicting the Test set results\n",
        "    \n",
        "    y_pred = classifier.predict(X_test)\n",
        "    \n",
        "    # Making the Confusion Matrix\n",
        "    \n",
        "    from sklearn.metrics import confusion_matrix\n",
        "    \n",
        "    cm_KNN = confusion_matrix(y_test, y_pred)\n",
        "    print(cm_KNN)\n",
        "    print(\"Accuracy score of train KNN\")\n",
        "    print(accuracy_score(y_train, trained_model.predict(X_train))*100)\n",
        "    \n",
        "    print(\"Accuracy score of test KNN\")\n",
        "    print(accuracy_score(y_test, y_pred)*100)\n",
        "    \n",
        "    knn.append(accuracy_score(y_test, y_pred)*100)\n",
        "    \n",
        "plt.figure(figsize=(12, 6))  \n",
        "plt.plot(range(1, 21),knn, color='red', linestyle='dashed', marker='o',  \n",
        "             markerfacecolor='blue', markersize=10)\n",
        "plt.title('Accuracy for different  K Value')  \n",
        "plt.xlabel('K Value')  \n",
        "plt.ylabel('Accuracy') "
      ],
      "execution_count": 9,
      "outputs": [
        {
          "output_type": "stream",
          "name": "stdout",
          "text": [
            "[[154  10]\n",
            " [  9  72]]\n",
            "Accuracy score of train KNN\n",
            "100.0\n",
            "Accuracy score of test KNN\n",
            "92.24489795918367\n",
            "[[160   4]\n",
            " [ 15  66]]\n",
            "Accuracy score of train KNN\n",
            "97.79735682819384\n",
            "Accuracy score of test KNN\n",
            "92.24489795918367\n",
            "[[160   4]\n",
            " [  7  74]]\n",
            "Accuracy score of train KNN\n",
            "96.91629955947137\n",
            "Accuracy score of test KNN\n",
            "95.51020408163265\n",
            "[[160   4]\n",
            " [  7  74]]\n",
            "Accuracy score of train KNN\n",
            "96.47577092511013\n",
            "Accuracy score of test KNN\n",
            "95.51020408163265\n",
            "[[160   4]\n",
            " [  2  79]]\n",
            "Accuracy score of train KNN\n",
            "96.69603524229075\n",
            "Accuracy score of test KNN\n",
            "97.55102040816327\n",
            "[[160   4]\n",
            " [  2  79]]\n",
            "Accuracy score of train KNN\n",
            "96.69603524229075\n",
            "Accuracy score of test KNN\n",
            "97.55102040816327\n",
            "[[160   4]\n",
            " [  2  79]]\n",
            "Accuracy score of train KNN\n",
            "96.69603524229075\n",
            "Accuracy score of test KNN\n",
            "97.55102040816327\n",
            "[[160   4]\n",
            " [  2  79]]\n",
            "Accuracy score of train KNN\n",
            "96.91629955947137\n",
            "Accuracy score of test KNN\n",
            "97.55102040816327\n",
            "[[160   4]\n",
            " [  2  79]]\n",
            "Accuracy score of train KNN\n",
            "96.69603524229075\n",
            "Accuracy score of test KNN\n",
            "97.55102040816327\n",
            "[[160   4]\n",
            " [  2  79]]\n",
            "Accuracy score of train KNN\n",
            "96.69603524229075\n",
            "Accuracy score of test KNN\n",
            "97.55102040816327\n",
            "[[160   4]\n",
            " [  2  79]]\n",
            "Accuracy score of train KNN\n",
            "96.69603524229075\n",
            "Accuracy score of test KNN\n",
            "97.55102040816327\n",
            "[[160   4]\n",
            " [  3  78]]\n",
            "Accuracy score of train KNN\n",
            "96.69603524229075\n",
            "Accuracy score of test KNN\n",
            "97.14285714285714\n",
            "[[160   4]\n",
            " [  1  80]]\n",
            "Accuracy score of train KNN\n",
            "96.25550660792952\n",
            "Accuracy score of test KNN\n",
            "97.95918367346938\n",
            "[[160   4]\n",
            " [  2  79]]\n",
            "Accuracy score of train KNN\n",
            "96.25550660792952\n",
            "Accuracy score of test KNN\n",
            "97.55102040816327\n",
            "[[160   4]\n",
            " [  2  79]]\n",
            "Accuracy score of train KNN\n",
            "96.25550660792952\n",
            "Accuracy score of test KNN\n",
            "97.55102040816327\n",
            "[[160   4]\n",
            " [  2  79]]\n",
            "Accuracy score of train KNN\n",
            "96.25550660792952\n",
            "Accuracy score of test KNN\n",
            "97.55102040816327\n",
            "[[160   4]\n",
            " [  2  79]]\n",
            "Accuracy score of train KNN\n",
            "96.25550660792952\n",
            "Accuracy score of test KNN\n",
            "97.55102040816327\n",
            "[[160   4]\n",
            " [  2  79]]\n",
            "Accuracy score of train KNN\n",
            "96.25550660792952\n",
            "Accuracy score of test KNN\n",
            "97.55102040816327\n",
            "[[160   4]\n",
            " [  2  79]]\n",
            "Accuracy score of train KNN\n",
            "96.25550660792952\n",
            "Accuracy score of test KNN\n",
            "97.55102040816327\n",
            "[[160   4]\n",
            " [  3  78]]\n",
            "Accuracy score of train KNN\n",
            "96.0352422907489\n",
            "Accuracy score of test KNN\n",
            "97.14285714285714\n"
          ]
        },
        {
          "output_type": "execute_result",
          "data": {
            "text/plain": [
              "Text(0, 0.5, 'Accuracy')"
            ]
          },
          "metadata": {},
          "execution_count": 9
        },
        {
          "output_type": "display_data",
          "data": {
            "image/png": "[encoded data removed]",
            "text/plain": [
              "<Figure size 864x432 with 1 Axes>"
            ]
          },
          "metadata": {
            "needs_background": "light"
          }
        }
      ]
    },
    {
      "cell_type": "code",
      "metadata": {
        "colab": {
          "base_uri": "https://localhost:8080/"
        },
        "id": "oiBebTtYtkKH",
        "outputId": "0836b427-3e6e-414c-a027-bc974bb47acf"
      },
      "source": [
        "# Fitting SVM to the Training set\n",
        "\n",
        "from sklearn.svm import SVC\n",
        "classifier = SVC(kernel = 'linear', random_state = 0)\n",
        "\n",
        "trained_model=classifier.fit(X_train,y_train)\n",
        "trained_model.fit(X_train,y_train )\n",
        "\n",
        "\n",
        "# Predicting the Test set results\n",
        "\n",
        "y_pred = classifier.predict(X_test)\n",
        "y_pred"
      ],
      "execution_count": 11,
      "outputs": [
        {
          "output_type": "execute_result",
          "data": {
            "text/plain": [
              "array([0, 0, 0, 1, 0, 0, 0, 1, 1, 1, 0, 1, 0, 0, 0, 1, 0, 1, 1, 1, 1, 0,\n",
              "       1, 0, 1, 0, 0, 1, 0, 1, 0, 0, 0, 1, 0, 0, 0, 1, 0, 1, 0, 0, 1, 0,\n",
              "       0, 0, 0, 1, 0, 1, 0, 0, 1, 0, 1, 0, 0, 1, 0, 0, 0, 0, 1, 0, 0, 0,\n",
              "       1, 1, 0, 0, 1, 0, 1, 0, 0, 0, 0, 1, 0, 0, 0, 0, 0, 0, 0, 1, 1, 0,\n",
              "       0, 0, 0, 0, 1, 0, 0, 1, 0, 0, 0, 0, 0, 0, 0, 1, 1, 0, 1, 0, 0, 1,\n",
              "       1, 0, 0, 0, 0, 1, 0, 0, 0, 0, 0, 1, 0, 0, 1, 1, 0, 0, 1, 1, 0, 0,\n",
              "       1, 0, 1, 0, 1, 0, 0, 0, 0, 1, 0, 0, 0, 1, 0, 1, 0, 1, 0, 1, 0, 1,\n",
              "       0, 1, 0, 0, 0, 0, 0, 1, 0, 1, 0, 0, 1, 0, 0, 0, 0, 0, 1, 1, 0, 0,\n",
              "       1, 1, 0, 0, 0, 0, 1, 0, 0, 0, 1, 0, 0, 0, 0, 0, 0, 0, 0, 0, 0, 0,\n",
              "       1, 1, 1, 1, 1, 1, 0, 0, 0, 0, 0, 0, 1, 1, 0, 0, 1, 1, 0, 0, 1, 0,\n",
              "       0, 0, 0, 0, 1, 1, 0, 0, 0, 0, 1, 0, 0, 1, 0, 0, 0, 0, 0, 0, 1, 0,\n",
              "       0, 1, 1])"
            ]
          },
          "metadata": {},
          "execution_count": 11
        }
      ]
    },
    {
      "cell_type": "code",
      "metadata": {
        "colab": {
          "base_uri": "https://localhost:8080/"
        },
        "id": "UetdS1lStsdM",
        "outputId": "13c0c9ef-c23e-4099-b053-fcb050f84b3c"
      },
      "source": [
        "# Making the Confusion Matrix\n",
        "\n",
        "from sklearn.metrics import confusion_matrix\n",
        "cm_SVM = confusion_matrix(y_test, y_pred)\n",
        "print(cm_SVM)\n",
        "print(\"Accuracy score of train SVM\")\n",
        "print(accuracy_score(y_train, trained_model.predict(X_train))*100)\n",
        "\n",
        "print(\"Accuracy score of test SVM\")\n",
        "print(accuracy_score(y_test, y_pred)*100)\n"
      ],
      "execution_count": 12,
      "outputs": [
        {
          "output_type": "stream",
          "name": "stdout",
          "text": [
            "[[160   4]\n",
            " [  4  77]]\n",
            "Accuracy score of train SVM\n",
            "96.47577092511013\n",
            "Accuracy score of test SVM\n",
            "96.73469387755102\n"
          ]
        }
      ]
    }
  ]
}